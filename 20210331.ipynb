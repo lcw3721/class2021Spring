{
  "nbformat": 4,
  "nbformat_minor": 0,
  "metadata": {
    "colab": {
      "name": "20210331.ipynb",
      "provenance": [],
      "authorship_tag": "ABX9TyMiY+AP+/pZnxBROHio+1yF",
      "include_colab_link": true
    },
    "kernelspec": {
      "name": "python3",
      "display_name": "Python 3"
    },
    "language_info": {
      "name": "python"
    }
  },
  "cells": [
    {
      "cell_type": "markdown",
      "metadata": {
        "id": "view-in-github",
        "colab_type": "text"
      },
      "source": [
        "<a href=\"https://colab.research.google.com/github/lcw3721/class2021Spring/blob/main/20210331.ipynb\" target=\"_parent\"><img src=\"https://colab.research.google.com/assets/colab-badge.svg\" alt=\"Open In Colab\"/></a>"
      ]
    },
    {
      "cell_type": "code",
      "metadata": {
        "id": "EJpWoOdr4dEC"
      },
      "source": [
        ""
      ],
      "execution_count": null,
      "outputs": []
    },
    {
      "cell_type": "markdown",
      "metadata": {
        "id": "EM2J9eKg4flU"
      },
      "source": [
        "##pitch) \n",
        "아: 198Hz 에: 197.3Hz\n",
        "(큰 변화 없었음)\n",
        "##intensity)\n",
        "아: 69.42dB 에: 65.17dB\n",
        "##formant)\n",
        "아: 첫 번째는 763.1Hz, 두 번째는 1386Hz  \n",
        "에: 첫 번째는 520.8Hz, 두 번째는 2355Hz\n",
        "##duration)\n",
        "아: 0.443989s, 에: 0.557334\n",
        "\n"
      ]
    }
  ]
}