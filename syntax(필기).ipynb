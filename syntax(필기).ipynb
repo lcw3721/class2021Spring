{
  "nbformat": 4,
  "nbformat_minor": 0,
  "metadata": {
    "colab": {
      "name": "syntax(필기).ipynb",
      "provenance": [],
      "authorship_tag": "ABX9TyPiZRItqCv3RubWo/AQ6Mcz",
      "include_colab_link": true
    },
    "kernelspec": {
      "name": "python3",
      "display_name": "Python 3"
    }
  },
  "cells": [
    {
      "cell_type": "markdown",
      "metadata": {
        "id": "view-in-github",
        "colab_type": "text"
      },
      "source": [
        "<a href=\"https://colab.research.google.com/github/lcw3721/class2021Spring/blob/main/syntax(%ED%95%84%EA%B8%B0).ipynb\" target=\"_parent\"><img src=\"https://colab.research.google.com/assets/colab-badge.svg\" alt=\"Open In Colab\"/></a>"
      ]
    },
    {
      "cell_type": "code",
      "metadata": {
        "colab": {
          "base_uri": "https://localhost:8080/"
        },
        "id": "wFMC1dEzYNqx",
        "outputId": "20bf275c-534e-4343-e2d3-84e985549ad6"
      },
      "source": [
        "a = [1, 2, 4, 5]\r\n",
        "for i in a:\r\n",
        "    print(i)"
      ],
      "execution_count": 1,
      "outputs": [
        {
          "output_type": "stream",
          "text": [
            "1\n",
            "2\n",
            "4\n",
            "5\n"
          ],
          "name": "stdout"
        }
      ]
    },
    {
      "cell_type": "markdown",
      "metadata": {
        "id": "6OSsSTJoYaA7"
      },
      "source": [
        "for문에서는 다음 줄에서 tab이 자동으로 작동한다. 만약 그렇지 않다면 tab 처리를 해줘야 한다.for문은 끝에 :을 입력한다. for문은 여러 번 반복할 수 있도록 한다.for문이 여러 개 있다고 한다면 안쪽부터 해결하면 된다."
      ]
    },
    {
      "cell_type": "code",
      "metadata": {
        "colab": {
          "base_uri": "https://localhost:8080/"
        },
        "id": "GhIbPLGiYfqy",
        "outputId": "cfae3ebf-24ea-465e-b516-1f05cf4543b9"
      },
      "source": [
        "a = [1, 2, 4, 5]\r\n",
        "for i in range(len(a)):\r\n",
        "    print(a[i])"
      ],
      "execution_count": 3,
      "outputs": [
        {
          "output_type": "stream",
          "text": [
            "1\n",
            "2\n",
            "4\n",
            "5\n"
          ],
          "name": "stdout"
        }
      ]
    },
    {
      "cell_type": "markdown",
      "metadata": {
        "id": "P3hJtqcwaGxV"
      },
      "source": [
        "len(a)는 4로서 범위가 만들어지고 이는 0, 1, 2, 3이다. a[0]부터 a[3]까지 출력하면 1, 2, 4, 5가 각각 출력된다."
      ]
    },
    {
      "cell_type": "code",
      "metadata": {
        "colab": {
          "base_uri": "https://localhost:8080/"
        },
        "id": "KXzGcD7sau-b",
        "outputId": "0734b793-ebe1-4656-a293-73dd648c8641"
      },
      "source": [
        "a = ['red', 'green', 'blue', 'black']\r\n",
        "for i in a:\r\n",
        "    print(i)"
      ],
      "execution_count": 4,
      "outputs": [
        {
          "output_type": "stream",
          "text": [
            "red\n",
            "green\n",
            "blue\n",
            "black\n"
          ],
          "name": "stdout"
        }
      ]
    },
    {
      "cell_type": "markdown",
      "metadata": {
        "id": "crjwRqmJa1l-"
      },
      "source": [
        "앞서 숫자와 마찬가지로 단어도 똑같이 적용하여 a의 항목들을 모두 출력한다."
      ]
    },
    {
      "cell_type": "code",
      "metadata": {
        "colab": {
          "base_uri": "https://localhost:8080/"
        },
        "id": "QN95kpdDctvF",
        "outputId": "c3d55451-6e57-43b5-bcd8-08e88363be9c"
      },
      "source": [
        "a = ['red', 'green', 'blue', 'black']\r\n",
        "for i in range(len(a)):\r\n",
        "    print(a[i])"
      ],
      "execution_count": 5,
      "outputs": [
        {
          "output_type": "stream",
          "text": [
            "red\n",
            "green\n",
            "blue\n",
            "black\n"
          ],
          "name": "stdout"
        }
      ]
    },
    {
      "cell_type": "markdown",
      "metadata": {
        "id": "L2Z5W4rxc1BU"
      },
      "source": [
        "마찬가지로 범위가 4로 0부터 3까지 i가 만들어졌으므로 a[0]부터 a[3]까지 출력한다."
      ]
    }
  ]
}