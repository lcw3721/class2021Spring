{
  "nbformat": 4,
  "nbformat_minor": 0,
  "metadata": {
    "colab": {
      "name": "programming.ipynb",
      "provenance": [],
      "authorship_tag": "ABX9TyOWqFV1w5PRrT2wXORvtN1p",
      "include_colab_link": true
    },
    "kernelspec": {
      "name": "python3",
      "display_name": "Python 3"
    }
  },
  "cells": [
    {
      "cell_type": "markdown",
      "metadata": {
        "id": "view-in-github",
        "colab_type": "text"
      },
      "source": [
        "<a href=\"https://colab.research.google.com/github/lcw3721/class2021Spring/blob/main/programming.ipynb\" target=\"_parent\"><img src=\"https://colab.research.google.com/assets/colab-badge.svg\" alt=\"Open In Colab\"/></a>"
      ]
    },
    {
      "cell_type": "code",
      "metadata": {
        "id": "dhcCZXx2ozLv"
      },
      "source": [
        ""
      ],
      "execution_count": null,
      "outputs": []
    },
    {
      "cell_type": "markdown",
      "metadata": {
        "id": "r8ADLIqzo54L"
      },
      "source": [
        "#변수, 제어문, 함수\r\n",
        "변수: variable로 사람의 언어에서 단어에 해당한다. a=1에서 a는 변수에 해당하고 1은 내용에 해당한다. =는 오른쪽에 있는 내용을 왼쪽에 있는 변수에 assign한다는 의미이다. \r\n",
        "\r\n",
        "제어문: 제어문은 문법이라고 말할 수 있으며 대표적으로 for을 활용한 반복과 if를 활용한 조건이 있다. 반복과 조건은 모든 컴퓨터 언어에 존재한다. \r\n",
        "for 100\r\n",
        "print (1)\r\n",
        "이것은 1을 100번 print하라는 의미이다. \r\n",
        "\r\n",
        "a=1\r\n",
        "if a==1\r\n",
        "print(3)\r\n",
        "이것은 a가 1일 때 3을 print하라는 의미이다.\r\n",
        "\r\n",
        "함수: 함수는 입출력 관계를 나타내는 것으로 입력을 받아 변화를 거친 후 출력하는 과정으로 이루어진다. y=f(x)라는 함수에서 x는 입력에 되고 y는 출력이 된다. 예를 들어 add(a, b)라는 함수를 통해 a와 b라는 입력을 더하여 c라는 출력을 만들어낼 수 있다. \r\n"
      ]
    }
  ]
}