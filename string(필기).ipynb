{
  "nbformat": 4,
  "nbformat_minor": 0,
  "metadata": {
    "colab": {
      "name": "string(필기).ipynb",
      "provenance": [],
      "authorship_tag": "ABX9TyNOTrnDL3Jp8heRK4YWN008",
      "include_colab_link": true
    },
    "kernelspec": {
      "name": "python3",
      "display_name": "Python 3"
    }
  },
  "cells": [
    {
      "cell_type": "markdown",
      "metadata": {
        "id": "view-in-github",
        "colab_type": "text"
      },
      "source": [
        "<a href=\"https://colab.research.google.com/github/lcw3721/class2021Spring/blob/main/string(%ED%95%84%EA%B8%B0).ipynb\" target=\"_parent\"><img src=\"https://colab.research.google.com/assets/colab-badge.svg\" alt=\"Open In Colab\"/></a>"
      ]
    },
    {
      "cell_type": "code",
      "metadata": {
        "colab": {
          "base_uri": "https://localhost:8080/"
        },
        "id": "X8eFqbTn5N76",
        "outputId": "355aff30-ef6f-418b-e40b-4a5a4db72f5c"
      },
      "source": [
        "s='abcdef'\r\n",
        "print(s[0], s[3], s[-1], s[-5])\r\n",
        "print(s[1:4], s[1:], s[:4], s[:])"
      ],
      "execution_count": 1,
      "outputs": [
        {
          "output_type": "stream",
          "text": [
            "a d f b\n",
            "bcd bcdef abcd abcdef\n"
          ],
          "name": "stdout"
        }
      ]
    },
    {
      "cell_type": "markdown",
      "metadata": {
        "id": "bKf_-_xCGOhM"
      },
      "source": [
        "string은 character의 결합이다.왼쪽부터 오른쪽까지 0부터 순서를 매긴 후 다시 오른쪽부터 왼쪽으로 갈 때 -를 달고 순서를 매긴다. 그래서 s[-1]가 오른쪽 맨 끝이 되고 s[-5]는 b가 된다. 새로운 개념으로 index slice가 나오는데 이는 예를 들어 s[1:4]라면 1번째부터 4번째 전까지라는 뜻이다. 따라서 bcd가 출력된다. [1:]는 1부터 끝까지, [:4}는 처음부터 4번째 전까지, [:]는 전부를 의미한다. "
      ]
    },
    {
      "cell_type": "code",
      "metadata": {
        "colab": {
          "base_uri": "https://localhost:8080/"
        },
        "id": "Z6tTNvtNHEz3",
        "outputId": "8d887f48-1299-411a-fadd-aa151c9f9175"
      },
      "source": [
        "n = [10, 20, 30]\r\n",
        "print(n[0], n[2], n[-1], n[-3])\r\n",
        "print(n[1:2], n[1:], n[:2], n[:])"
      ],
      "execution_count": 4,
      "outputs": [
        {
          "output_type": "stream",
          "text": [
            "10 30 30 10\n",
            "[20] [20, 30] [10, 20] [10, 20, 30]\n"
          ],
          "name": "stdout"
        }
      ]
    },
    {
      "cell_type": "markdown",
      "metadata": {
        "id": "uCis3fqoHPQ-"
      },
      "source": [
        "리스트에서도 마찬가지로 지목할 수 있으며 index slice가 적용된다. 앞서 말한 음수 번째를 지목하는 것은 이 경우 -3까지만 가능하고 그 이하는 불가능하다. "
      ]
    },
    {
      "cell_type": "code",
      "metadata": {
        "colab": {
          "base_uri": "https://localhost:8080/"
        },
        "id": "E3CcVfjkHq_g",
        "outputId": "b084e893-6a80-4b58-ff89-b0fe92df61e6"
      },
      "source": [
        "len(s)"
      ],
      "execution_count": 5,
      "outputs": [
        {
          "output_type": "execute_result",
          "data": {
            "text/plain": [
              "6"
            ]
          },
          "metadata": {
            "tags": []
          },
          "execution_count": 5
        }
      ]
    },
    {
      "cell_type": "markdown",
      "metadata": {
        "id": "V8P7DDQEHv5M"
      },
      "source": [
        "len(a)는 string의 길이를 의미하며 list의 항목 개수가 출력된다."
      ]
    },
    {
      "cell_type": "code",
      "metadata": {
        "colab": {
          "base_uri": "https://localhost:8080/",
          "height": 35
        },
        "id": "rjRTlz8kH0cm",
        "outputId": "d53e7a9e-026b-459f-ae48-25a292a53706"
      },
      "source": [
        "s[1]+s[3]+s[4:]*8"
      ],
      "execution_count": 6,
      "outputs": [
        {
          "output_type": "execute_result",
          "data": {
            "application/vnd.google.colaboratory.intrinsic+json": {
              "type": "string"
            },
            "text/plain": [
              "'bdefefefefefefefef'"
            ]
          },
          "metadata": {
            "tags": []
          },
          "execution_count": 6
        }
      ]
    },
    {
      "cell_type": "markdown",
      "metadata": {
        "id": "mUkn46cvH4yL"
      },
      "source": [
        "마지막 s[4:]*8은 s의 4번째부터 마지막까지 해당하는 항목을 8번 곱해서 출력하라는 의미이다. 전부 다 8번 곱해서 출력하는 것이 아니다."
      ]
    },
    {
      "cell_type": "code",
      "metadata": {
        "colab": {
          "base_uri": "https://localhost:8080/",
          "height": 35
        },
        "id": "hx3TyOppIG2G",
        "outputId": "d5f341c6-04a7-4a94-bed1-8831f3397f06"
      },
      "source": [
        "s.upper()"
      ],
      "execution_count": 7,
      "outputs": [
        {
          "output_type": "execute_result",
          "data": {
            "application/vnd.google.colaboratory.intrinsic+json": {
              "type": "string"
            },
            "text/plain": [
              "'ABCDEF'"
            ]
          },
          "metadata": {
            "tags": []
          },
          "execution_count": 7
        }
      ]
    },
    {
      "cell_type": "markdown",
      "metadata": {
        "id": "d_etjTgdIKlM"
      },
      "source": [
        "s.upper()는 대문자화하라는 의미이다. s.lower()는 소문자화하라는 의미이다."
      ]
    },
    {
      "cell_type": "code",
      "metadata": {
        "colab": {
          "base_uri": "https://localhost:8080/",
          "height": 35
        },
        "id": "K3hmsOEaIRfz",
        "outputId": "160ff922-e3a0-486e-e394-ab092e070ed9"
      },
      "source": [
        "s = ' this door was broken by that.\\n' \t\r\n",
        "s"
      ],
      "execution_count": 123,
      "outputs": [
        {
          "output_type": "execute_result",
          "data": {
            "application/vnd.google.colaboratory.intrinsic+json": {
              "type": "string"
            },
            "text/plain": [
              "' this door was broken by that.\\n'"
            ]
          },
          "metadata": {
            "tags": []
          },
          "execution_count": 123
        }
      ]
    },
    {
      "cell_type": "markdown",
      "metadata": {
        "id": "Y2WvLNLcIdeP"
      },
      "source": [
        "\\n은 그 다음 줄로 넘어간다는 의미이다."
      ]
    },
    {
      "cell_type": "code",
      "metadata": {
        "colab": {
          "base_uri": "https://localhost:8080/"
        },
        "id": "KSYC1FmYIrfn",
        "outputId": "19011830-881c-4683-931a-bb1cba718a8c"
      },
      "source": [
        "result = s.find('this') \t    # index of first instance of string t inside s (-1 if not found)\r\n",
        "result"
      ],
      "execution_count": 124,
      "outputs": [
        {
          "output_type": "execute_result",
          "data": {
            "text/plain": [
              "1"
            ]
          },
          "metadata": {
            "tags": []
          },
          "execution_count": 124
        }
      ]
    },
    {
      "cell_type": "markdown",
      "metadata": {
        "id": "0bpejiLPJBcI"
      },
      "source": [
        "s.find는 s의 항목들 중에서 해당 단어가 등장하기 시작하는 번호를 출력한다. index에서 나오듯이 그 단어가 발견되지 않으면 -1을 출력한다."
      ]
    },
    {
      "cell_type": "code",
      "metadata": {
        "colab": {
          "base_uri": "https://localhost:8080/"
        },
        "id": "Ji5SR7sXJhmH",
        "outputId": "03d6400b-9626-4ab2-9c3c-4849b0df8a44"
      },
      "source": [
        "result = s.find('door')\t    # index of last instance of string t inside s (-1 if not found)\r\n",
        "result"
      ],
      "execution_count": 126,
      "outputs": [
        {
          "output_type": "execute_result",
          "data": {
            "text/plain": [
              "6"
            ]
          },
          "metadata": {
            "tags": []
          },
          "execution_count": 126
        }
      ]
    },
    {
      "cell_type": "markdown",
      "metadata": {
        "id": "nUXohq5tKCOB"
      },
      "source": [
        "마찬가지로 door라는 단어가 등장하기 시작하는 번호는 6이다."
      ]
    },
    {
      "cell_type": "code",
      "metadata": {
        "colab": {
          "base_uri": "https://localhost:8080/"
        },
        "id": "9jS0MRxgKG5C",
        "outputId": "cc19f3c1-2af0-4127-ca4e-b0633cef00a2"
      },
      "source": [
        "result = s.rindex('by')        # like s.find(t) except it raises ValueError if not found\r\n",
        "result"
      ],
      "execution_count": 128,
      "outputs": [
        {
          "output_type": "execute_result",
          "data": {
            "text/plain": [
              "22"
            ]
          },
          "metadata": {
            "tags": []
          },
          "execution_count": 128
        }
      ]
    },
    {
      "cell_type": "markdown",
      "metadata": {
        "id": "PUDE_DUVT6vv"
      },
      "source": [
        "rindex는 reverse index로 뒤에서부터 그 단어를 찾으며 index는 그대로 앞에서부터 부여된 숫자를 따른다."
      ]
    },
    {
      "cell_type": "code",
      "metadata": {
        "colab": {
          "base_uri": "https://localhost:8080/",
          "height": 35
        },
        "id": "lEbOFtqOQoPf",
        "outputId": "48508404-e55c-4962-e33b-4f8f9c7bf129"
      },
      "source": [
        "s=s.strip()\r\n",
        "s"
      ],
      "execution_count": 129,
      "outputs": [
        {
          "output_type": "execute_result",
          "data": {
            "application/vnd.google.colaboratory.intrinsic+json": {
              "type": "string"
            },
            "text/plain": [
              "'this door was broken by that.'"
            ]
          },
          "metadata": {
            "tags": []
          },
          "execution_count": 129
        }
      ]
    },
    {
      "cell_type": "markdown",
      "metadata": {
        "id": "8gyWFwH5Qvs-"
      },
      "source": [
        "s.strip은 줄바꿈, tab 등을 없애준다."
      ]
    },
    {
      "cell_type": "code",
      "metadata": {
        "colab": {
          "base_uri": "https://localhost:8080/"
        },
        "id": "9NE0zRi-Q1no",
        "outputId": "7d92b855-6e8e-41c5-d357-0af7dcfbc8cb"
      },
      "source": [
        "tokens=s.split(' ')\r\n",
        "tokens"
      ],
      "execution_count": 130,
      "outputs": [
        {
          "output_type": "execute_result",
          "data": {
            "text/plain": [
              "['this', 'door', 'was', 'broken', 'by', 'that.']"
            ]
          },
          "metadata": {
            "tags": []
          },
          "execution_count": 130
        }
      ]
    },
    {
      "cell_type": "markdown",
      "metadata": {
        "id": "lkGVgkYBQ_Bn"
      },
      "source": [
        "s.split(' ')은 빈칸을 기준으로 나누는 것이다. 작은 따옴표 사이에 space바를 눌러 빈칸을 만들어야 한다."
      ]
    },
    {
      "cell_type": "code",
      "metadata": {
        "colab": {
          "base_uri": "https://localhost:8080/",
          "height": 35
        },
        "id": "SnihD4O5RGnf",
        "outputId": "71d48166-5b24-44e6-c05c-6063ad38893e"
      },
      "source": [
        "s=' '. join(tokens)\r\n",
        "s"
      ],
      "execution_count": 131,
      "outputs": [
        {
          "output_type": "execute_result",
          "data": {
            "application/vnd.google.colaboratory.intrinsic+json": {
              "type": "string"
            },
            "text/plain": [
              "'this door was broken by that.'"
            ]
          },
          "metadata": {
            "tags": []
          },
          "execution_count": 131
        }
      ]
    },
    {
      "cell_type": "markdown",
      "metadata": {
        "id": "OnUNYg7BRM48"
      },
      "source": [
        "' '.join(tokens0는 떨어졌던 단어들을 glue처럼 다시 붙이는 기능을 한다."
      ]
    },
    {
      "cell_type": "code",
      "metadata": {
        "colab": {
          "base_uri": "https://localhost:8080/",
          "height": 35
        },
        "id": "5bkpNiqCRWkd",
        "outputId": "b054c269-61a9-4d2c-9637-b468dcc597d4"
      },
      "source": [
        "s=s.replace('this', 'that')\r\n",
        "s"
      ],
      "execution_count": 132,
      "outputs": [
        {
          "output_type": "execute_result",
          "data": {
            "application/vnd.google.colaboratory.intrinsic+json": {
              "type": "string"
            },
            "text/plain": [
              "'that door was broken by that.'"
            ]
          },
          "metadata": {
            "tags": []
          },
          "execution_count": 132
        }
      ]
    },
    {
      "cell_type": "markdown",
      "metadata": {
        "id": "xRYGC9eQRjOS"
      },
      "source": [
        "s.replace('this', 'that')은 this를 that으로 대체한다는 의미이다."
      ]
    }
  ]
}