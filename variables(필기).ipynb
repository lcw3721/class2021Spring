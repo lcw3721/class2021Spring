{
  "nbformat": 4,
  "nbformat_minor": 0,
  "metadata": {
    "colab": {
      "name": "variables(필기).ipynb",
      "provenance": [],
      "authorship_tag": "ABX9TyNRc5GHmatBwcZYrgx5dk7n",
      "include_colab_link": true
    },
    "kernelspec": {
      "name": "python3",
      "display_name": "Python 3"
    }
  },
  "cells": [
    {
      "cell_type": "markdown",
      "metadata": {
        "id": "view-in-github",
        "colab_type": "text"
      },
      "source": [
        "<a href=\"https://colab.research.google.com/github/lcw3721/class2021Spring/blob/main/variables(%ED%95%84%EA%B8%B0).ipynb\" target=\"_parent\"><img src=\"https://colab.research.google.com/assets/colab-badge.svg\" alt=\"Open In Colab\"/></a>"
      ]
    },
    {
      "cell_type": "code",
      "metadata": {
        "colab": {
          "base_uri": "https://localhost:8080/"
        },
        "id": "aBI7iI3GyId4",
        "outputId": "9a3099bd-578f-4499-a928-829267aaed65"
      },
      "source": [
        "a=2; print(type(a))"
      ],
      "execution_count": 1,
      "outputs": [
        {
          "output_type": "stream",
          "text": [
            "<class 'int'>\n"
          ],
          "name": "stdout"
        }
      ]
    },
    {
      "cell_type": "markdown",
      "metadata": {
        "id": "ANXv9iRiyeFe"
      },
      "source": [
        "int형은 정수형을 나타낸다. "
      ]
    },
    {
      "cell_type": "code",
      "metadata": {
        "colab": {
          "base_uri": "https://localhost:8080/"
        },
        "id": "TqagZYtvymI-",
        "outputId": "1eaee463-b865-493b-a291-3723761ca5c7"
      },
      "source": [
        "a=2; a=float(a); print(type(a))"
      ],
      "execution_count": 2,
      "outputs": [
        {
          "output_type": "stream",
          "text": [
            "<class 'float'>\n"
          ],
          "name": "stdout"
        }
      ]
    },
    {
      "cell_type": "markdown",
      "metadata": {
        "id": "VntYkIrLyu3C"
      },
      "source": [
        "a=float(a)의 의미는 a에 float형인 a를 assign하라는 의미이기 때문에 그 이후에 a의 type은 float형이 된다."
      ]
    },
    {
      "cell_type": "code",
      "metadata": {
        "colab": {
          "base_uri": "https://localhost:8080/"
        },
        "id": "aa5SnwVMy9eF",
        "outputId": "a4116cd9-2119-4111-8607-a174fae2f199"
      },
      "source": [
        "a=1.4; a=int(a); print(type(a)); print(a)"
      ],
      "execution_count": 6,
      "outputs": [
        {
          "output_type": "stream",
          "text": [
            "<class 'int'>\n",
            "1\n"
          ],
          "name": "stdout"
        }
      ]
    },
    {
      "cell_type": "markdown",
      "metadata": {
        "id": "WEACrwHyzF1L"
      },
      "source": [
        "1.4와 같은 실수 a에 int를 assign한다면 a의 type이 int형으로 출력된다. 그리고 a를 출력할 때는 원래의 값인 실수에서 소수점 첫째자리에서 반올림하여 만들어진 정수를 출력한다. "
      ]
    },
    {
      "cell_type": "code",
      "metadata": {
        "colab": {
          "base_uri": "https://localhost:8080/"
        },
        "id": "IdC9dkGhzRXl",
        "outputId": "281400cb-cbb6-4425-9f05-3f8bc7580577"
      },
      "source": [
        "a='125'; print(type(a)); print(a[2])"
      ],
      "execution_count": 5,
      "outputs": [
        {
          "output_type": "stream",
          "text": [
            "<class 'str'>\n",
            "5\n"
          ],
          "name": "stdout"
        }
      ]
    },
    {
      "cell_type": "markdown",
      "metadata": {
        "id": "cA_nqDBnzz5-"
      },
      "source": [
        "리스트 안의 항목들은 가장 첫번째 항목이 0부터 시작하여 순서대로 숫자가 부여된다. "
      ]
    },
    {
      "cell_type": "code",
      "metadata": {
        "colab": {
          "base_uri": "https://localhost:8080/"
        },
        "id": "AWjHHQEs0Hod",
        "outputId": "b682dbd3-a653-4116-80ab-4f503f809d31"
      },
      "source": [
        "a='125'; a=list(a); print(type(a)); print(a); print(a[2])"
      ],
      "execution_count": 7,
      "outputs": [
        {
          "output_type": "stream",
          "text": [
            "<class 'list'>\n",
            "['1', '2', '5']\n",
            "5\n"
          ],
          "name": "stdout"
        }
      ]
    },
    {
      "cell_type": "markdown",
      "metadata": {
        "id": "BGiewvAA0U9Y"
      },
      "source": [
        "리스트는 [ ]으로 표현하며 순서가 존재한다. "
      ]
    },
    {
      "cell_type": "code",
      "metadata": {
        "colab": {
          "base_uri": "https://localhost:8080/"
        },
        "id": "bJO04RCf2KLq",
        "outputId": "add16818-1b51-4c5a-fffe-11fc52a2cc9a"
      },
      "source": [
        "a=[1, '2', [5, '6']]; print(type(a)); print(a[1]); print(a[2])"
      ],
      "execution_count": 10,
      "outputs": [
        {
          "output_type": "stream",
          "text": [
            "<class 'list'>\n",
            "2\n",
            "[5, '6']\n"
          ],
          "name": "stdout"
        }
      ]
    },
    {
      "cell_type": "markdown",
      "metadata": {
        "id": "Z_qoATTv2lrW"
      },
      "source": [
        "list의 [ ]안에는 어떤 형태가 들어와도 상관이 없으며 리스트 안의 항목들 중 하나를 지목할 수 있다. "
      ]
    },
    {
      "cell_type": "code",
      "metadata": {
        "colab": {
          "base_uri": "https://localhost:8080/"
        },
        "id": "zqU6f_6z3QVN",
        "outputId": "18b09d3a-7a46-4ccd-f466-151c8a443088"
      },
      "source": [
        "a=(1, '2', [5, '6']); print(type(a)); print(a[1]); print(a[2])"
      ],
      "execution_count": 11,
      "outputs": [
        {
          "output_type": "stream",
          "text": [
            "<class 'tuple'>\n",
            "2\n",
            "[5, '6']\n"
          ],
          "name": "stdout"
        }
      ]
    },
    {
      "cell_type": "markdown",
      "metadata": {
        "id": "eJAMRBt53URA"
      },
      "source": [
        "list와 tuple은 거의 차이가 없지만 list는 [ ]를 사용하고 tuple은 ( )을 사용한다. 또한 list는 assign이 가능하지만 tuple은 item에 새로 assign 할 수 없다. "
      ]
    },
    {
      "cell_type": "code",
      "metadata": {
        "colab": {
          "base_uri": "https://localhost:8080/"
        },
        "id": "ruD-2Nby3jtZ",
        "outputId": "353a7b0e-d930-4274-becb-62c3460fb85d"
      },
      "source": [
        "a={\"a\": \"car\", \"b\": \"train\", \"c\": \"airplane\"}\r\n",
        "print(type(a)); print(a[\"c\"])"
      ],
      "execution_count": 12,
      "outputs": [
        {
          "output_type": "stream",
          "text": [
            "<class 'dict'>\n",
            "airplane\n"
          ],
          "name": "stdout"
        }
      ]
    },
    {
      "cell_type": "markdown",
      "metadata": {
        "id": "FZXLUklq34MD"
      },
      "source": [
        "dictionary는 순서가 존재하지 않으며 { }로 표현한다. 항목에 access 하려면 a[\"c\"] 혹은 a['c']로 표현한다. "
      ]
    },
    {
      "cell_type": "code",
      "metadata": {
        "colab": {
          "base_uri": "https://localhost:8080/"
        },
        "id": "lmD4nflp4I6r",
        "outputId": "83ee7878-3df6-4f35-e055-02414e5c6cda"
      },
      "source": [
        "a=[(1, 3, 0), (4, 5, 2)]\r\n",
        "print(type(a))\r\n",
        "a"
      ],
      "execution_count": 14,
      "outputs": [
        {
          "output_type": "stream",
          "text": [
            "<class 'list'>\n"
          ],
          "name": "stdout"
        },
        {
          "output_type": "execute_result",
          "data": {
            "text/plain": [
              "[(1, 3, 0), (4, 5, 2)]"
            ]
          },
          "metadata": {
            "tags": []
          },
          "execution_count": 14
        }
      ]
    },
    {
      "cell_type": "markdown",
      "metadata": {
        "id": "GnY5kv6w4YiO"
      },
      "source": [
        "list안에는 어떤 항목이 들어가도 상관 없다. "
      ]
    }
  ]
}