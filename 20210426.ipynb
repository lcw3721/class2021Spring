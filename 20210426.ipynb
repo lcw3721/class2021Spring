{
  "nbformat": 4,
  "nbformat_minor": 0,
  "metadata": {
    "colab": {
      "name": "20210426.ipynb",
      "provenance": [],
      "authorship_tag": "ABX9TyNClbmHmK8y8l651s1AJP44",
      "include_colab_link": true
    },
    "kernelspec": {
      "name": "python3",
      "display_name": "Python 3"
    },
    "language_info": {
      "name": "python"
    }
  },
  "cells": [
    {
      "cell_type": "markdown",
      "metadata": {
        "id": "view-in-github",
        "colab_type": "text"
      },
      "source": [
        "<a href=\"https://colab.research.google.com/github/lcw3721/class2021Spring/blob/main/20210426.ipynb\" target=\"_parent\"><img src=\"https://colab.research.google.com/assets/colab-badge.svg\" alt=\"Open In Colab\"/></a>"
      ]
    },
    {
      "cell_type": "code",
      "metadata": {
        "id": "tBVgkMxqxi4b"
      },
      "source": [
        "%matplotlib inline\n",
        "from matplotlib import pyplot as plt\n",
        "import IPython.display as ipd\n",
        "import numpy as np\n",
        "from scipy.signal import lfilter"
      ],
      "execution_count": 32,
      "outputs": []
    },
    {
      "cell_type": "code",
      "metadata": {
        "id": "aV3ab08WyTNh"
      },
      "source": [
        "def func1(amp, sr, dur, freq):\n",
        "  return s, theta, time"
      ],
      "execution_count": 33,
      "outputs": []
    },
    {
      "cell_type": "code",
      "metadata": {
        "id": "eh_zNYh4ykbA"
      },
      "source": [
        "amp=1\n",
        "sr=10000\n",
        "dur=0.5\n",
        "freq=200.0"
      ],
      "execution_count": 34,
      "outputs": []
    },
    {
      "cell_type": "code",
      "metadata": {
        "id": "exHCAPdfysMY"
      },
      "source": [
        "time = np.arange(1, sr * dur+1)/sr"
      ],
      "execution_count": 35,
      "outputs": []
    },
    {
      "cell_type": "code",
      "metadata": {
        "id": "u-cGu7xzytpJ"
      },
      "source": [
        "theta = t * 2*np.pi * freq"
      ],
      "execution_count": 36,
      "outputs": []
    },
    {
      "cell_type": "code",
      "metadata": {
        "id": "DCrEMfRPyu_v"
      },
      "source": [
        "s = np.sin(theta)"
      ],
      "execution_count": 37,
      "outputs": []
    },
    {
      "cell_type": "code",
      "metadata": {
        "colab": {
          "base_uri": "https://localhost:8080/"
        },
        "id": "79z6uR9I0T7P",
        "outputId": "9c78e535-8a6a-4ce5-f997-b4ba50e2f989"
      },
      "source": [
        "func1(amp, sr, dur, freq)"
      ],
      "execution_count": 38,
      "outputs": [
        {
          "output_type": "execute_result",
          "data": {
            "text/plain": [
              "(array([ 1.25333234e-01,  2.48689887e-01,  3.68124553e-01, ...,\n",
              "        -2.48689887e-01, -1.25333234e-01,  3.92877345e-15]),\n",
              " array([1.25663706e-01, 2.51327412e-01, 3.76991118e-01, ...,\n",
              "        6.28067203e+02, 6.28192867e+02, 6.28318531e+02]),\n",
              " array([1.000e-04, 2.000e-04, 3.000e-04, ..., 4.998e-01, 4.999e-01,\n",
              "        5.000e-01]))"
            ]
          },
          "metadata": {
            "tags": []
          },
          "execution_count": 38
        }
      ]
    },
    {
      "cell_type": "code",
      "metadata": {
        "colab": {
          "base_uri": "https://localhost:8080/",
          "height": 297
        },
        "id": "kzIE0KAzyv-A",
        "outputId": "e8872d4b-8c79-47e3-8c62-99c2bf146149"
      },
      "source": [
        "fig = plt.figure()\n",
        "ax = fig.add_subplot(111)\n",
        "ax.plot(t[0:1000], s[0:1000], '.')\n",
        "ax.set_xlabel('time (s)')\n",
        "ax.set_ylabel('real')"
      ],
      "execution_count": 39,
      "outputs": [
        {
          "output_type": "execute_result",
          "data": {
            "text/plain": [
              "Text(0, 0.5, 'real')"
            ]
          },
          "metadata": {
            "tags": []
          },
          "execution_count": 39
        },
        {
          "output_type": "display_data",
          "data": {
            "image/png": "[encoded data removed]",
            "text/plain": [
              "<Figure size 432x288 with 1 Axes>"
            ]
          },
          "metadata": {
            "tags": [],
            "needs_background": "light"
          }
        }
      ]
    },
    {
      "cell_type": "code",
      "metadata": {
        "colab": {
          "base_uri": "https://localhost:8080/",
          "height": 74
        },
        "id": "pNdP8wogy2O9",
        "outputId": "0835aaa7-3d24-4ae2-b32d-54e889a13315"
      },
      "source": [
        "ipd.Audio(s, rate=sr)"
      ],
      "execution_count": 40,
      "outputs": [
        {
          "output_type": "execute_result",
          "data": {
            "text/html": [
              "\n",
              "                <audio controls=\"controls\" >\n",
              "                    <source src=\"data:audio/wav;base64,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\" type=\"audio/wav\" />\n",
              "                    Your browser does not support the audio element.\n",
              "                </audio>\n",
              "              "
            ],
            "text/plain": [
              "<IPython.lib.display.Audio object>"
            ]
          },
          "metadata": {
            "tags": []
          },
          "execution_count": 40
        }
      ]
    }
  ]
}